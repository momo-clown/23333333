{
 "cells": [
  {
   "cell_type": "markdown",
   "metadata": {},
   "source": [
    "数据集地址：https://www.kaggle.com/datasets/burak3ergun/loan-data-set  \n",
    "二分类任务，使用卡方检验进行特征筛选，使用逻辑回归对是否贷款即数据集中的Loan_Status进行预测"
   ]
  },
  {
   "cell_type": "code",
   "execution_count": 30,
   "metadata": {},
   "outputs": [],
   "source": [
    "import pandas as pd\n",
    "\n"
   ]
  },
  {
   "cell_type": "markdown",
   "metadata": {},
   "source": [
    "# 读取文件，并将贷款时间和信用历史由数值型转为分类类型，然后得到除目标列的分类列名"
   ]
  },
  {
   "cell_type": "code",
   "execution_count": 34,
   "metadata": {},
   "outputs": [
    {
     "name": "stdout",
     "output_type": "stream",
     "text": [
      "Index(['Gender', 'Married', 'Dependents', 'Education', 'Self_Employed',\n",
      "       'Loan_Amount_Term', 'Credit_History', 'Property_Area'],\n",
      "      dtype='object')\n",
      "<class 'pandas.core.frame.DataFrame'>\n",
      "Int64Index: 480 entries, 1 to 613\n",
      "Data columns (total 12 columns):\n",
      " #   Column             Non-Null Count  Dtype  \n",
      "---  ------             --------------  -----  \n",
      " 0   Gender             480 non-null    object \n",
      " 1   Married            480 non-null    object \n",
      " 2   Dependents         480 non-null    object \n",
      " 3   Education          480 non-null    object \n",
      " 4   Self_Employed      480 non-null    object \n",
      " 5   ApplicantIncome    480 non-null    int64  \n",
      " 6   CoapplicantIncome  480 non-null    float64\n",
      " 7   LoanAmount         480 non-null    float64\n",
      " 8   Loan_Amount_Term   480 non-null    object \n",
      " 9   Credit_History     480 non-null    object \n",
      " 10  Property_Area      480 non-null    object \n",
      " 11  Loan_Status        480 non-null    object \n",
      "dtypes: float64(2), int64(1), object(9)\n",
      "memory usage: 48.8+ KB\n"
     ]
    }
   ],
   "source": [
    "loan = pd.read_csv('datasets\\loan_data_set.csv')\n",
    "#loan.info()\n",
    "loan.drop('Loan_ID',axis=1,inplace=True)\n",
    "#loan.info()\n",
    "loan['Loan_Amount_Term']=loan['Loan_Amount_Term'].astype('object')\n",
    "loan['Credit_History']=loan['Credit_History'].astype('object')\n",
    "loan.dropna(inplace=True)\n",
    "categorical_columns = loan.select_dtypes(exclude=['number']).drop('Loan_Status',axis=1).columns\n",
    "print(categorical_columns)\n",
    "loan.info()\n"
   ]
  },
  {
   "cell_type": "code",
   "execution_count": 4,
   "metadata": {},
   "outputs": [
    {
     "data": {
      "text/html": [
       "<div>\n",
       "<style scoped>\n",
       "    .dataframe tbody tr th:only-of-type {\n",
       "        vertical-align: middle;\n",
       "    }\n",
       "\n",
       "    .dataframe tbody tr th {\n",
       "        vertical-align: top;\n",
       "    }\n",
       "\n",
       "    .dataframe thead th {\n",
       "        text-align: right;\n",
       "    }\n",
       "</style>\n",
       "<table border=\"1\" class=\"dataframe\">\n",
       "  <thead>\n",
       "    <tr style=\"text-align: right;\">\n",
       "      <th>Loan_Status</th>\n",
       "      <th>N</th>\n",
       "      <th>Y</th>\n",
       "    </tr>\n",
       "    <tr>\n",
       "      <th>Gender</th>\n",
       "      <th></th>\n",
       "      <th></th>\n",
       "    </tr>\n",
       "  </thead>\n",
       "  <tbody>\n",
       "    <tr>\n",
       "      <th>Female</th>\n",
       "      <td>32</td>\n",
       "      <td>54</td>\n",
       "    </tr>\n",
       "    <tr>\n",
       "      <th>Male</th>\n",
       "      <td>116</td>\n",
       "      <td>278</td>\n",
       "    </tr>\n",
       "  </tbody>\n",
       "</table>\n",
       "</div>"
      ],
      "text/plain": [
       "Loan_Status    N    Y\n",
       "Gender               \n",
       "Female        32   54\n",
       "Male         116  278"
      ]
     },
     "execution_count": 4,
     "metadata": {},
     "output_type": "execute_result"
    }
   ],
   "source": [
    "pd.crosstab(loan[\"Gender\"],loan['Loan_Status'])     #性别和贷款状态交叉表"
   ]
  },
  {
   "cell_type": "code",
   "execution_count": 5,
   "metadata": {},
   "outputs": [
    {
     "name": "stdout",
     "output_type": "stream",
     "text": [
      "(1.6495637942018448, 0.1990183114281211, 1, array([[ 26.51666667,  59.48333333],\n",
      "       [121.48333333, 272.51666667]]))\n",
      "卡方值:1.6495637942018448\n",
      "  p值:0.1990183114281211\n"
     ]
    }
   ],
   "source": [
    "from scipy.stats import chi2_contingency\n",
    "chi_res = chi2_contingency(pd.crosstab(loan['Gender'],loan['Loan_Status']))\n",
    "print(chi_res)                                #第一个值是卡方值，第二个值是p值，第三个值是自由度，第四个是期望值\n",
    "print(\"卡方值:{}\\n  p值:{}\".format(chi_res[0],chi_res[1]))"
   ]
  },
  {
   "cell_type": "markdown",
   "metadata": {},
   "source": [
    "# 对所有的列于目标列进行卡方检验"
   ]
  },
  {
   "cell_type": "code",
   "execution_count": 6,
   "metadata": {},
   "outputs": [
    {
     "name": "stdout",
     "output_type": "stream",
     "text": [
      "['Accept H0', 'Reject H0', 'Accept H0', 'Accept H0', 'Accept H0', 'Reject H0', 'Reject H0', 'Reject H0']\n",
      "             Column         H0\n",
      "0            Gender  Accept H0\n",
      "1           Married  Reject H0\n",
      "2        Dependents  Accept H0\n",
      "3         Education  Accept H0\n",
      "4     Self_Employed  Accept H0\n",
      "5  Loan_Amount_Term  Reject H0\n",
      "6    Credit_History  Reject H0\n",
      "7     Property_Area  Reject H0\n"
     ]
    }
   ],
   "source": [
    "chi2_check = []\n",
    "for i in categorical_columns:\n",
    "    if chi2_contingency(pd.crosstab(loan['Loan_Status'],loan[i]))[1] < 0.05:\n",
    "        chi2_check.append('Reject H0')\n",
    "    else:\n",
    "        chi2_check.append('Accept H0')\n",
    "print(chi2_check)\n",
    "res = pd.DataFrame(data=[categorical_columns,chi2_check]).T\n",
    "res.columns = ['Column','H0']\n",
    "print(res)"
   ]
  },
  {
   "cell_type": "markdown",
   "metadata": {},
   "source": [
    "独立性的卡方检验是一种总括检验，即对数据进行整体检验。如果一个类别中有多个类别，如果卡方表大于 2×2，\n",
    "我们就无法轻易判断是哪个类别的特征造成了这种关系。要确定是哪一类造成了这种关系，我们需要进行事后检验。"
   ]
  },
  {
   "cell_type": "code",
   "execution_count": 7,
   "metadata": {},
   "outputs": [
    {
     "name": "stdout",
     "output_type": "stream",
     "text": [
      "   Property_Area_Rural  Property_Area_Semiurban  Property_Area_Urban\n",
      "1                    1                        0                    0\n",
      "2                    0                        0                    1\n",
      "3                    0                        0                    1\n",
      "4                    0                        0                    1\n",
      "5                    0                        0                    1\n",
      "(5.377420967206426, 0.02039901197579578, 1, array([[105.14166667, 235.85833333],\n",
      "       [ 42.85833333,  96.14166667]]))\n"
     ]
    }
   ],
   "source": [
    "property_dummies = pd.get_dummies(data = loan[['Property_Area']],columns=['Property_Area'])\n",
    "print(property_dummies.head())\n",
    "property_dummies = pd.concat([property_dummies,loan['Loan_Status']],axis=1)\n",
    "property_dummies.head()\n",
    "chi_res = chi2_contingency(pd.crosstab(property_dummies['Property_Area_Rural'],property_dummies['Loan_Status']))\n",
    "print(chi_res)\n"
   ]
  },
  {
   "cell_type": "markdown",
   "metadata": {},
   "source": [
    "计算每列的不同分类与目标列的卡方检验的p值，由于初始值为0.05，对多个类别的每次测试都会增加误差，第二次误差为0.1，第三次为0.15，\n",
    "所以需要进行矫正，初始0.05除去检测次数"
   ]
  },
  {
   "cell_type": "code",
   "execution_count": 8,
   "metadata": {},
   "outputs": [
    {
     "name": "stdout",
     "output_type": "stream",
     "text": [
      "                     Column         H0\n",
      "0                Married-No  Reject H0\n",
      "1               Married-Yes  Reject H0\n",
      "2     Loan_Amount_Term-36.0  Accept H0\n",
      "3     Loan_Amount_Term-60.0  Accept H0\n",
      "4     Loan_Amount_Term-84.0  Accept H0\n",
      "5    Loan_Amount_Term-120.0  Accept H0\n",
      "6    Loan_Amount_Term-180.0  Accept H0\n",
      "7    Loan_Amount_Term-240.0  Accept H0\n",
      "8    Loan_Amount_Term-300.0  Accept H0\n",
      "9    Loan_Amount_Term-360.0  Accept H0\n",
      "10   Loan_Amount_Term-480.0  Accept H0\n",
      "11       Credit_History-0.0  Reject H0\n",
      "12       Credit_History-1.0  Reject H0\n",
      "13      Property_Area-Rural  Accept H0\n",
      "14  Property_Area-Semiurban  Reject H0\n",
      "15      Property_Area-Urban  Accept H0\n"
     ]
    },
    {
     "name": "stderr",
     "output_type": "stream",
     "text": [
      "c:\\Users\\momo\\anaconda3\\envs\\py39-TS\\lib\\site-packages\\pandas\\core\\algorithms.py:798: FutureWarning: In a future version, the Index constructor will not infer numeric dtypes when passed object-dtype sequences (matching Series behavior)\n",
      "  uniques = Index(uniques)\n",
      "c:\\Users\\momo\\anaconda3\\envs\\py39-TS\\lib\\site-packages\\pandas\\core\\algorithms.py:798: FutureWarning: In a future version, the Index constructor will not infer numeric dtypes when passed object-dtype sequences (matching Series behavior)\n",
      "  uniques = Index(uniques)\n"
     ]
    }
   ],
   "source": [
    "check = {}\n",
    "for i in res[res['H0'] == 'Reject H0']['Column']:\n",
    "    dummies = pd.get_dummies(loan[i])\n",
    "    bon_p_value = 0.05/loan[i].nunique()        #卡方检测的p值矫正\n",
    "    for j in dummies.columns:\n",
    "        if chi2_contingency(pd.crosstab(dummies[j],loan['Loan_Status']))[1] < bon_p_value:\n",
    "            check['{}-{}'.format(i,j)] = 'Reject H0'\n",
    "        else:\n",
    "            check['{}-{}'.format(i,j)] = 'Accept H0'\n",
    "res_chi_ph = pd.DataFrame(data = [check.keys(),check.values()]).T\n",
    "res_chi_ph.columns = ['Column','H0']\n",
    "print(res_chi_ph)\n",
    "   "
   ]
  },
  {
   "cell_type": "markdown",
   "metadata": {},
   "source": [
    "使用逻辑回归进行预测，使用所有的特征进行预测"
   ]
  },
  {
   "cell_type": "code",
   "execution_count": 27,
   "metadata": {},
   "outputs": [
    {
     "name": "stdout",
     "output_type": "stream",
     "text": [
      "     ApplicantIncome  CoapplicantIncome  LoanAmount  Gender_Male  Married_Yes  \\\n",
      "136             4583                0.0        84.0            0            1   \n",
      "201             4923                0.0       166.0            1            0   \n",
      "519             3400                0.0        95.0            0            0   \n",
      "46              5649                0.0        44.0            1            1   \n",
      "180             6400             7250.0       180.0            1            1   \n",
      "\n",
      "     Dependents_1  Dependents_2  Dependents_3+  Education_Not Graduate  \\\n",
      "136             0             0              0                       0   \n",
      "201             0             1              0                       0   \n",
      "519             0             0              0                       1   \n",
      "46              1             0              0                       0   \n",
      "180             1             0              0                       0   \n",
      "\n",
      "     Self_Employed_Yes  ...  Loan_Amount_Term_84.0  Loan_Amount_Term_120.0  \\\n",
      "136                  0  ...                      0                       0   \n",
      "201                  0  ...                      0                       0   \n",
      "519                  0  ...                      0                       0   \n",
      "46                   0  ...                      0                       0   \n",
      "180                  0  ...                      0                       0   \n",
      "\n",
      "     Loan_Amount_Term_180.0  Loan_Amount_Term_240.0  Loan_Amount_Term_300.0  \\\n",
      "136                       0                       0                       0   \n",
      "201                       0                       0                       0   \n",
      "519                       0                       0                       0   \n",
      "46                        0                       0                       0   \n",
      "180                       0                       0                       0   \n",
      "\n",
      "     Loan_Amount_Term_360.0  Loan_Amount_Term_480.0  Credit_History_1.0  \\\n",
      "136                       1                       0                   1   \n",
      "201                       1                       0                   0   \n",
      "519                       1                       0                   1   \n",
      "46                        1                       0                   1   \n",
      "180                       1                       0                   0   \n",
      "\n",
      "     Property_Area_Semiurban  Property_Area_Urban  \n",
      "136                        0                    0  \n",
      "201                        1                    0  \n",
      "519                        0                    0  \n",
      "46                         0                    1  \n",
      "180                        0                    1  \n",
      "\n",
      "[5 rows x 21 columns]\n",
      "0.7361111111111112\n",
      "              precision    recall  f1-score   support\n",
      "\n",
      "           0       0.38      0.08      0.14        36\n",
      "           1       0.76      0.95      0.84       108\n",
      "\n",
      "    accuracy                           0.74       144\n",
      "   macro avg       0.57      0.52      0.49       144\n",
      "weighted avg       0.66      0.74      0.67       144\n",
      "\n"
     ]
    },
    {
     "name": "stderr",
     "output_type": "stream",
     "text": [
      "c:\\Users\\momo\\anaconda3\\envs\\py39-TS\\lib\\site-packages\\pandas\\core\\algorithms.py:798: FutureWarning: In a future version, the Index constructor will not infer numeric dtypes when passed object-dtype sequences (matching Series behavior)\n",
      "  uniques = Index(uniques)\n"
     ]
    }
   ],
   "source": [
    "from sklearn.linear_model import LogisticRegression\n",
    "from sklearn.metrics import classification_report,confusion_matrix,roc_auc_score,accuracy_score\n",
    "from sklearn.model_selection import train_test_split\n",
    "data_log = pd.get_dummies(data=loan,columns=loan.select_dtypes(exclude=['int64','float64']).drop('Loan_Status',axis=1).columns,drop_first=True)\n",
    "data_log.head()\n",
    "data_log['Loan_Status'] = data_log['Loan_Status'].map({'Y':1,'N':0})\n",
    "data_log.head()\n",
    "X_train,X_test,y_train,y_test = train_test_split(data_log.drop('Loan_Status',axis=1),data_log['Loan_Status'],test_size=0.3,random_state=1234)\n",
    "#print(X_train.head())\n",
    "log_model = LogisticRegression(max_iter=1000)\n",
    "log_model.fit(X_train,y_train)\n",
    "predictions = log_model.predict(X_test)\n",
    "print(accuracy_score(y_test,predictions))\n",
    "print(classification_report(y_test,predictions))\n",
    "\n"
   ]
  },
  {
   "cell_type": "code",
   "execution_count": 21,
   "metadata": {},
   "outputs": [
    {
     "data": {
      "image/png": "[encoded data removed]",
      "text/plain": [
       "<Figure size 1000x800 with 1 Axes>"
      ]
     },
     "metadata": {},
     "output_type": "display_data"
    }
   ],
   "source": [
    "from matplotlib import pyplot as plt\n",
    "from sklearn.metrics import auc, roc_curve\n",
    "preds = log_model.predict_proba(X_test)[:,1]            #函数返回每个类别的样本概率（n_samples，n_classes）\n",
    "fpr, tpr, threshold = roc_curve(y_test, preds)\n",
    "roc_auc = auc(fpr, tpr)                                   #计算AUC值\n",
    "plt.figure(figsize=(10,8))\n",
    "plt.title('Receiver Operator Characteristic')\n",
    "plt.plot(fpr, tpr, 'b', label = 'AUC = {}'.format(round(roc_auc, 2)))\n",
    "plt.legend(loc = 'lower right')\n",
    "plt.plot([0,1], [0,1], 'r--')\n",
    "plt.xlim([0,1])\n",
    "plt.ylim([0,1])\n",
    "plt.ylabel('True Positive Rate')\n",
    "plt.xlabel('False Positive Rate')\n",
    "plt.show()\n"
   ]
  },
  {
   "cell_type": "markdown",
   "metadata": {},
   "source": [
    "进行特征筛选，只保留卡方检验后留下的特征"
   ]
  },
  {
   "cell_type": "code",
   "execution_count": 24,
   "metadata": {},
   "outputs": [
    {
     "name": "stdout",
     "output_type": "stream",
     "text": [
      "['Married_Yes', 'Credit_History_1.0', 'Property_Area_Semiurban', 'ApplicantIncome', 'CoapplicantIncome', 'LoanAmount']\n"
     ]
    }
   ],
   "source": [
    "\n",
    "significant_chi = []\n",
    "for i in res_chi_ph[res_chi_ph['H0'] == 'Reject H0']['Column']:    \n",
    " significant_chi.append('{}_{}'.format(i.split('-')[0],i.split('-')[1]))\n",
    "\n",
    "for i in ['Married_No', 'Credit_History_0.0']:    \n",
    " significant_chi.remove(i)\n",
    "\n",
    "for i in loan.select_dtypes('number').columns:\n",
    " significant_chi.append(i)\n",
    "print(significant_chi)"
   ]
  },
  {
   "cell_type": "code",
   "execution_count": 28,
   "metadata": {},
   "outputs": [
    {
     "name": "stdout",
     "output_type": "stream",
     "text": [
      "     Married_Yes  Credit_History_1.0  Property_Area_Semiurban  \\\n",
      "136            1                   1                        0   \n",
      "201            0                   0                        1   \n",
      "519            0                   1                        0   \n",
      "46             1                   1                        0   \n",
      "180            1                   0                        0   \n",
      "\n",
      "     ApplicantIncome  CoapplicantIncome  LoanAmount  \n",
      "136             4583                0.0        84.0  \n",
      "201             4923                0.0       166.0  \n",
      "519             3400                0.0        95.0  \n",
      "46              5649                0.0        44.0  \n",
      "180             6400             7250.0       180.0  \n",
      "0.8125\n",
      "              precision    recall  f1-score   support\n",
      "\n",
      "           0       0.85      0.31      0.45        36\n",
      "           1       0.81      0.98      0.89       108\n",
      "\n",
      "    accuracy                           0.81       144\n",
      "   macro avg       0.83      0.64      0.67       144\n",
      "weighted avg       0.82      0.81      0.78       144\n",
      "\n"
     ]
    }
   ],
   "source": [
    "log_model = LogisticRegression(max_iter = 1000)\n",
    "log_model.fit(X_train[significant_chi], y_train)\n",
    "print(X_train[significant_chi].head())\n",
    "predictions = log_model.predict(X_test[significant_chi])\n",
    "print(accuracy_score(y_test, predictions))\n",
    "print(classification_report(y_test,predictions))"
   ]
  },
  {
   "cell_type": "code",
   "execution_count": 29,
   "metadata": {},
   "outputs": [
    {
     "data": {
      "image/png": "[encoded data removed]",
      "text/plain": [
       "<Figure size 1000x800 with 1 Axes>"
      ]
     },
     "metadata": {},
     "output_type": "display_data"
    }
   ],
   "source": [
    "from matplotlib import pyplot as plt\n",
    "from sklearn.metrics import auc, roc_curve\n",
    "preds = log_model.predict_proba(X_test[significant_chi])[:,1]\n",
    "fpr, tpr, threshold = roc_curve(y_test, preds)\n",
    "roc_auc = auc(fpr, tpr)\n",
    "plt.figure(figsize=(10,8))\n",
    "plt.title('Receiver Operator Characteristic')\n",
    "plt.plot(fpr, tpr, 'b', label = 'AUC = {}'.format(round(roc_auc, 2)))\n",
    "plt.legend(loc = 'lower right')\n",
    "plt.plot([0,1], [0,1], 'r--')\n",
    "plt.xlim([0,1])\n",
    "plt.ylim([0,1])\n",
    "plt.ylabel('True Positive Rate')\n",
    "plt.xlabel('False Positive Rate')\n",
    "plt.show()\n"
   ]
  }
 ],
 "metadata": {
  "kernelspec": {
   "display_name": "py10",
   "language": "python",
   "name": "python3"
  },
  "language_info": {
   "codemirror_mode": {
    "name": "ipython",
    "version": 3
   },
   "file_extension": ".py",
   "mimetype": "text/x-python",
   "name": "python",
   "nbconvert_exporter": "python",
   "pygments_lexer": "ipython3",
   "version": "3.9.13"
  }
 },
 "nbformat": 4,
 "nbformat_minor": 2
}
